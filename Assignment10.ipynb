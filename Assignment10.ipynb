{
 "cells": [
  {
   "cell_type": "markdown",
   "id": "c94e7663-34a3-4ac8-8a20-e540746e2b23",
   "metadata": {},
   "source": [
    "# Q.1. What is the role of try and exception block?"
   ]
  },
  {
   "cell_type": "markdown",
   "id": "e56f7c94-bc0d-45e4-9105-49f57d101ec5",
   "metadata": {},
   "source": [
    "Ans: The try block lets you test a block of code for errors. The except block lets you handle the error."
   ]
  },
  {
   "cell_type": "markdown",
   "id": "5bdf102c-9a88-4b1d-a05b-32f4a538f921",
   "metadata": {},
   "source": [
    "# Q.2. What is the syntax for a basic try-except block?"
   ]
  },
  {
   "cell_type": "markdown",
   "id": "639aeeb6-6c38-4aa5-8a50-e76bacfb02e5",
   "metadata": {},
   "source": [
    "Ans: syntax for a basic try-except block is:"
   ]
  },
  {
   "cell_type": "raw",
   "id": "c32eb872-e7d8-4879-a7ac-12b6b88de759",
   "metadata": {},
   "source": [
    "try:\n",
    "    # Some Code\n",
    "except:\n",
    "    # Executed if error in the\n",
    "    # try block"
   ]
  },
  {
   "cell_type": "markdown",
   "id": "3309ec96-e6ab-4aae-8bfe-9b018b069d48",
   "metadata": {},
   "source": [
    "# Q.3. What happens if an exception occurs inside a try block and there is no matching except block?"
   ]
  },
  {
   "cell_type": "markdown",
   "id": "8eb4a35c-6593-4938-b7c2-f4f1bf1e3765",
   "metadata": {},
   "source": [
    "Ans: If any exception occurs, the try clause will be skipped and except clause will run. If any exception occurs, but the except clause within the code doesn't handle it, it is passed on to the outer try statements. If the exception is left unhandled, then the execution stops."
   ]
  },
  {
   "cell_type": "markdown",
   "id": "a9b3ffae-e715-4463-abe7-93b7c97050db",
   "metadata": {},
   "source": [
    "# Q.4. What is the difference between using a bare except block and specifying a specific exception type?"
   ]
  },
  {
   "cell_type": "markdown",
   "id": "700fc648-acb4-401f-8ad4-25326c1b06a9",
   "metadata": {},
   "source": [
    "Ans: A bare except: clause will catch SystemExit and KeyboardInterrupt exceptions, making it harder to interrupt a program with Control-C, and can disguise other problems. If you want to catch all exceptions that signal program errors, use except Exception: (bare except is equivalent to except BaseException:)."
   ]
  },
  {
   "cell_type": "markdown",
   "id": "fe9e55e8-48ce-405c-8f9d-25a3688ca8d5",
   "metadata": {},
   "source": [
    "# Q.5. Can you have nested try-except blocks in Python? If yes, then give an example."
   ]
  },
  {
   "cell_type": "markdown",
   "id": "cfa6e7eb-44dd-47b2-9187-da403eaf0e40",
   "metadata": {},
   "source": [
    "Ans: Yes, We can have nested try-except blocks in Python. In this case, if an exception is raised in the nested try block, the nested except block is used to handle it. In case the nested except is not able to handle it, the outer except blocks are used to handle the exception. Example:"
   ]
  },
  {
   "cell_type": "code",
   "execution_count": 4,
   "id": "2d597cce-cfad-40aa-8885-1f5edc81b136",
   "metadata": {},
   "outputs": [
    {
     "name": "stdout",
     "output_type": "stream",
     "text": [
      "outer try block\n",
      "nested try block\n",
      "outer except block\n",
      "division by zero\n"
     ]
    }
   ],
   "source": [
    "x = 10\n",
    "y = 0\n",
    " \n",
    "try:\n",
    "    print(\"outer try block\")\n",
    "    try:\n",
    "        print(\"nested try block\")\n",
    "        print(x / y)\n",
    "    except TypeError as te:\n",
    "        print(\"nested except block\")\n",
    "        print(te)\n",
    "except ZeroDivisionError as ze:\n",
    "    print(\"outer except block\")\n",
    "    print(ze)"
   ]
  },
  {
   "cell_type": "markdown",
   "id": "62e46794-e5e3-4c29-b832-f465b7efb4d5",
   "metadata": {},
   "source": [
    "# Q.6. Can we use multiple exception blocks, if yes then give an example."
   ]
  },
  {
   "cell_type": "markdown",
   "id": "18ddac8f-afad-43a3-be3e-a63ae0d3c810",
   "metadata": {},
   "source": [
    "Ans: Python provides several ways to catch multiple exceptions in a single block, making your code more concise and efficient. Example:"
   ]
  },
  {
   "cell_type": "code",
   "execution_count": 6,
   "id": "1370743e-a86d-462a-820d-5ff375c0c059",
   "metadata": {},
   "outputs": [
    {
     "name": "stdout",
     "output_type": "stream",
     "text": [
      "Type error occurs\n"
     ]
    }
   ],
   "source": [
    "# Python multiple exceptions\n",
    "try:\n",
    "    # defining variables\n",
    "    a = 10\n",
    "    b= 0\n",
    "    c = \"abc\"\n",
    "    d =a+c\n",
    "except ZeroDivisionError:\n",
    "    print(\"Zero Division Error occurs\")\n",
    "except IndexError:\n",
    "    print(\"Index error occurs\")\n",
    "except TypeError:\n",
    "    print(\"Type error occurs\")"
   ]
  },
  {
   "cell_type": "markdown",
   "id": "33c2268b-39f1-4839-bca7-0b0db8a05533",
   "metadata": {},
   "source": [
    "# Q.7. Write the reason due to which following errors are raised:\n",
    "# a. EOFError\n",
    "# b. FloatingPointError\n",
    "# c. IndexError\n",
    "# d. MemoryError\n",
    "# e. OverflowError\n",
    "# f. TabError\n",
    "# g. ValueError"
   ]
  },
  {
   "cell_type": "markdown",
   "id": "360189d5-7971-4db5-8f59-0f331d6531ca",
   "metadata": {},
   "source": [
    "Ans: a. EOFError:- Raised when the input() function hits an end-of-file condition (EOF)."
   ]
  },
  {
   "cell_type": "markdown",
   "id": "4850ecb9-a3ae-400f-865d-7ba1ff7b4789",
   "metadata": {},
   "source": [
    "b. FloatingPointError:- Raised when a floating point operation fails."
   ]
  },
  {
   "cell_type": "markdown",
   "id": "875addd3-83e5-45a0-ae3a-6a9c331a705b",
   "metadata": {},
   "source": [
    "c. IndexError:- Raised when a sequence subscript is out of range."
   ]
  },
  {
   "cell_type": "markdown",
   "id": "8bab6b2c-4ee3-4548-ba81-21b1d4a1c305",
   "metadata": {},
   "source": [
    "d. MemoryError:- Raised when an operation runs out of memory."
   ]
  },
  {
   "cell_type": "markdown",
   "id": "51384deb-f204-4245-96a4-33afbb941d2b",
   "metadata": {},
   "source": [
    "e. OverflowError:- Raised when the result of an arithmetic operation is too large to be expressed by the normal number format."
   ]
  },
  {
   "cell_type": "markdown",
   "id": "db1c51e2-095a-45d6-a529-77b6b9f3715d",
   "metadata": {},
   "source": [
    "f. TabError:-  Raised when indentation contains mixed tabs and spaces."
   ]
  },
  {
   "cell_type": "markdown",
   "id": "ca468d2b-3feb-4538-af77-70a9a844bd98",
   "metadata": {},
   "source": [
    "g. ValueError:- Raised when a built-in operation or function receives an argument that has the right type but an inappropriate value."
   ]
  },
  {
   "cell_type": "markdown",
   "id": "ec80e75d-00c1-490c-a93d-f5c11489c01b",
   "metadata": {},
   "source": [
    "# Q.8. Write code for the following given scenario and add try-exception block to it.\n",
    "# a. Program to divide two numbers\n",
    "# b. Program to convert a string to an integer\n",
    "# c. Program to access an element in a list\n",
    "# d. Program to handle a specific exception\n",
    "# e. Program to handle any exception"
   ]
  },
  {
   "cell_type": "markdown",
   "id": "bedc6976-7281-4444-8cfc-c806348d34b9",
   "metadata": {},
   "source": [
    "Ans: a. Program to divide two numbers:"
   ]
  },
  {
   "cell_type": "code",
   "execution_count": 8,
   "id": "7166e2ce-a5d2-4c4f-a73e-b004e9d54338",
   "metadata": {},
   "outputs": [
    {
     "name": "stdin",
     "output_type": "stream",
     "text": [
      "Enter First Number:  4\n",
      "Enter Second Number:  2\n"
     ]
    },
    {
     "name": "stdout",
     "output_type": "stream",
     "text": [
      "2.0\n"
     ]
    }
   ],
   "source": [
    "try:\n",
    "    num1 = int(input(\"Enter First Number: \"))\n",
    "    num2 = int(input(\"Enter Second Number: \"))\n",
    "\n",
    "    result = num1 / num2\n",
    "\n",
    "    print(result)\n",
    "except ValueError as e:\n",
    "    print(\"Invalid Input Please Input Integer...\")\n",
    "except ZeroDivisionError as e:\n",
    "    print(e)"
   ]
  },
  {
   "cell_type": "markdown",
   "id": "73eb7638-f7c4-4bcc-ac2f-7bd836f4261d",
   "metadata": {},
   "source": [
    "b. Program to convert a string to an integer:"
   ]
  },
  {
   "cell_type": "code",
   "execution_count": 9,
   "id": "998ee55f-6ac5-46bd-a0ae-94c9ee58aa4e",
   "metadata": {},
   "outputs": [
    {
     "name": "stdout",
     "output_type": "stream",
     "text": [
      "string to positive integer-  10\n",
      "string with negative integer -  -10\n"
     ]
    }
   ],
   "source": [
    "number  =  int('10')\n",
    "print(\"string to positive integer- \", number)\n",
    "\n",
    "number  =  int(\"-10\")\n",
    "print(\"string with negative integer - \", number)"
   ]
  },
  {
   "cell_type": "markdown",
   "id": "deaa9e4d-4e2e-4fda-af68-c25bea16117d",
   "metadata": {},
   "source": [
    "c. Program to access an element in a list:"
   ]
  },
  {
   "cell_type": "code",
   "execution_count": 10,
   "id": "f309cc4b-ef37-4f46-aa1e-fed4b36c9ffd",
   "metadata": {},
   "outputs": [
    {
     "name": "stdout",
     "output_type": "stream",
     "text": [
      "['A', 'P', 'P', 'L', 'E']\n"
     ]
    }
   ],
   "source": [
    "letters = [letter for letter in 'APPLE']\n",
    "print(letters)"
   ]
  },
  {
   "cell_type": "markdown",
   "id": "c3a69d50-8b3f-4d48-bc84-1ca7a9c89539",
   "metadata": {},
   "source": [
    "d. Program to handle a specific exception:"
   ]
  },
  {
   "cell_type": "code",
   "execution_count": 11,
   "id": "5f3812b3-c956-4b82-8ffc-755ac221beef",
   "metadata": {},
   "outputs": [
    {
     "name": "stdout",
     "output_type": "stream",
     "text": [
      "Index Out of Bound.\n"
     ]
    }
   ],
   "source": [
    "try:\n",
    "    \n",
    "    even_numbers = [2,4,6,8]\n",
    "    print(even_numbers[5])\n",
    "\n",
    "except ZeroDivisionError:\n",
    "    print(\"Denominator cannot be 0.\")\n",
    "    \n",
    "except IndexError:\n",
    "    print(\"Index Out of Bound.\")"
   ]
  },
  {
   "cell_type": "markdown",
   "id": "828275e8-1a58-4fb1-a39f-afa8810b31a1",
   "metadata": {},
   "source": [
    "e. Program to handle any exception:"
   ]
  },
  {
   "cell_type": "code",
   "execution_count": 12,
   "id": "6ac39f0f-fd78-450d-98d6-39c1bbfdb35b",
   "metadata": {},
   "outputs": [
    {
     "name": "stdout",
     "output_type": "stream",
     "text": [
      "Error: Denominator cannot be 0.\n"
     ]
    }
   ],
   "source": [
    "try:\n",
    "    numerator = 10\n",
    "    denominator = 0\n",
    "\n",
    "    result = numerator/denominator\n",
    "\n",
    "    print(result)\n",
    "except:\n",
    "    print(\"Error: Denominator cannot be 0.\")"
   ]
  }
 ],
 "metadata": {
  "kernelspec": {
   "display_name": "Python 3 (ipykernel)",
   "language": "python",
   "name": "python3"
  },
  "language_info": {
   "codemirror_mode": {
    "name": "ipython",
    "version": 3
   },
   "file_extension": ".py",
   "mimetype": "text/x-python",
   "name": "python",
   "nbconvert_exporter": "python",
   "pygments_lexer": "ipython3",
   "version": "3.10.6"
  }
 },
 "nbformat": 4,
 "nbformat_minor": 5
}
